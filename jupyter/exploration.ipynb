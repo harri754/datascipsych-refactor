{
 "cells": [
  {
   "cell_type": "markdown",
   "id": "dd1f74f1",
   "metadata": {},
   "source": [
    "# Exploratory analysis"
   ]
  },
  {
   "cell_type": "code",
   "execution_count": 2,
   "id": "6ce7e35c",
   "metadata": {},
   "outputs": [
    {
     "data": {
      "text/html": [
       "<div><style>\n",
       ".dataframe > thead > tr,\n",
       ".dataframe > tbody > tr {\n",
       "  text-align: right;\n",
       "  white-space: pre-wrap;\n",
       "}\n",
       "</style>\n",
       "<small>shape: (5, 3)</small><table border=\"1\" class=\"dataframe\"><thead><tr><th>trial</th><th>condition</th><th>correct</th></tr><tr><td>i64</td><td>i64</td><td>i64</td></tr></thead><tbody><tr><td>1</td><td>1</td><td>0</td></tr><tr><td>2</td><td>1</td><td>0</td></tr><tr><td>3</td><td>1</td><td>1</td></tr><tr><td>4</td><td>1</td><td>1</td></tr><tr><td>5</td><td>1</td><td>0</td></tr></tbody></table></div>"
      ],
      "text/plain": [
       "shape: (5, 3)\n",
       "┌───────┬───────────┬─────────┐\n",
       "│ trial ┆ condition ┆ correct │\n",
       "│ ---   ┆ ---       ┆ ---     │\n",
       "│ i64   ┆ i64       ┆ i64     │\n",
       "╞═══════╪═══════════╪═════════╡\n",
       "│ 1     ┆ 1         ┆ 0       │\n",
       "│ 2     ┆ 1         ┆ 0       │\n",
       "│ 3     ┆ 1         ┆ 1       │\n",
       "│ 4     ┆ 1         ┆ 1       │\n",
       "│ 5     ┆ 1         ┆ 0       │\n",
       "└───────┴───────────┴─────────┘"
      ]
     },
     "execution_count": 2,
     "metadata": {},
     "output_type": "execute_result"
    }
   ],
   "source": [
    "import polars as pl\n",
    "from refactor import analysis\n",
    "\n",
    "# Load sample data and display a few trials\n",
    "df = analysis.get_sample_data()\n",
    "df.head()"
   ]
  },
  {
   "cell_type": "code",
   "execution_count": null,
   "id": "0a3126b9",
   "metadata": {},
   "outputs": [
    {
     "data": {
      "text/html": [
       "<div><style>\n",
       ".dataframe > thead > tr,\n",
       ".dataframe > tbody > tr {\n",
       "  text-align: right;\n",
       "  white-space: pre-wrap;\n",
       "}\n",
       "</style>\n",
       "<small>shape: (2, 2)</small><table border=\"1\" class=\"dataframe\"><thead><tr><th>condition</th><th>correct</th></tr><tr><td>i64</td><td>f64</td></tr></thead><tbody><tr><td>1</td><td>0.466667</td></tr><tr><td>2</td><td>0.6</td></tr></tbody></table></div>"
      ],
      "text/plain": [
       "shape: (2, 2)\n",
       "┌───────────┬──────────┐\n",
       "│ condition ┆ correct  │\n",
       "│ ---       ┆ ---      │\n",
       "│ i64       ┆ f64      │\n",
       "╞═══════════╪══════════╡\n",
       "│ 1         ┆ 0.466667 │\n",
       "│ 2         ┆ 0.6      │\n",
       "└───────────┴──────────┘"
      ]
     },
     "execution_count": 3,
     "metadata": {},
     "output_type": "execute_result"
    }
   ],
   "source": [
    "# Calculate accuracy in each condition\n",
    "m = analysis.condition_accuracy(df)\n",
    "m"
   ]
  }
 ],
 "metadata": {
  "kernelspec": {
   "display_name": ".venv",
   "language": "python",
   "name": "python3"
  },
  "language_info": {
   "codemirror_mode": {
    "name": "ipython",
    "version": 3
   },
   "file_extension": ".py",
   "mimetype": "text/x-python",
   "name": "python",
   "nbconvert_exporter": "python",
   "pygments_lexer": "ipython3",
   "version": "3.12.8"
  }
 },
 "nbformat": 4,
 "nbformat_minor": 5
}
